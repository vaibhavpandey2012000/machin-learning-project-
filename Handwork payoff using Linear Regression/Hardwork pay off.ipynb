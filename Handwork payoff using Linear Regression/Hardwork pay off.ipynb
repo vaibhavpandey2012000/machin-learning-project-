{
 "cells": [
  {
   "cell_type": "markdown",
   "metadata": {},
   "source": [
    "### downlode data then visulisation\n",
    "- Downlode\n",
    "- lode\n",
    "- visulviation\n",
    "- Normalization"
   ]
  },
  {
   "cell_type": "code",
   "execution_count": 1,
   "metadata": {},
   "outputs": [],
   "source": [
    "import numpy as np\n",
    "import pandas as pd\n",
    "import matplotlib.pyplot as plt"
   ]
  },
  {
   "cell_type": "code",
   "execution_count": 2,
   "metadata": {},
   "outputs": [
    {
     "data": {
      "text/html": [
       "<div>\n",
       "<style scoped>\n",
       "    .dataframe tbody tr th:only-of-type {\n",
       "        vertical-align: middle;\n",
       "    }\n",
       "\n",
       "    .dataframe tbody tr th {\n",
       "        vertical-align: top;\n",
       "    }\n",
       "\n",
       "    .dataframe thead th {\n",
       "        text-align: right;\n",
       "    }\n",
       "</style>\n",
       "<table border=\"1\" class=\"dataframe\">\n",
       "  <thead>\n",
       "    <tr style=\"text-align: right;\">\n",
       "      <th></th>\n",
       "      <th>x</th>\n",
       "    </tr>\n",
       "  </thead>\n",
       "  <tbody>\n",
       "    <tr>\n",
       "      <th>0</th>\n",
       "      <td>-0.289307</td>\n",
       "    </tr>\n",
       "    <tr>\n",
       "      <th>1</th>\n",
       "      <td>-0.588810</td>\n",
       "    </tr>\n",
       "    <tr>\n",
       "      <th>2</th>\n",
       "      <td>1.027507</td>\n",
       "    </tr>\n",
       "    <tr>\n",
       "      <th>3</th>\n",
       "      <td>-0.259013</td>\n",
       "    </tr>\n",
       "    <tr>\n",
       "      <th>4</th>\n",
       "      <td>0.782043</td>\n",
       "    </tr>\n",
       "  </tbody>\n",
       "</table>\n",
       "</div>"
      ],
      "text/plain": [
       "          x\n",
       "0 -0.289307\n",
       "1 -0.588810\n",
       "2  1.027507\n",
       "3 -0.259013\n",
       "4  0.782043"
      ]
     },
     "execution_count": 2,
     "metadata": {},
     "output_type": "execute_result"
    }
   ],
   "source": [
    "x=pd.read_csv('Linear_X_Train.csv')\n",
    "y=pd.read_csv('Linear_Y_Train.csv')\n",
    "\n",
    "x.head()"
   ]
  },
  {
   "cell_type": "code",
   "execution_count": 3,
   "metadata": {},
   "outputs": [
    {
     "data": {
      "text/html": [
       "<div>\n",
       "<style scoped>\n",
       "    .dataframe tbody tr th:only-of-type {\n",
       "        vertical-align: middle;\n",
       "    }\n",
       "\n",
       "    .dataframe tbody tr th {\n",
       "        vertical-align: top;\n",
       "    }\n",
       "\n",
       "    .dataframe thead th {\n",
       "        text-align: right;\n",
       "    }\n",
       "</style>\n",
       "<table border=\"1\" class=\"dataframe\">\n",
       "  <thead>\n",
       "    <tr style=\"text-align: right;\">\n",
       "      <th></th>\n",
       "      <th>y</th>\n",
       "    </tr>\n",
       "  </thead>\n",
       "  <tbody>\n",
       "    <tr>\n",
       "      <th>0</th>\n",
       "      <td>-0.091101</td>\n",
       "    </tr>\n",
       "    <tr>\n",
       "      <th>1</th>\n",
       "      <td>-53.467721</td>\n",
       "    </tr>\n",
       "    <tr>\n",
       "      <th>2</th>\n",
       "      <td>75.457009</td>\n",
       "    </tr>\n",
       "    <tr>\n",
       "      <th>3</th>\n",
       "      <td>-12.025286</td>\n",
       "    </tr>\n",
       "    <tr>\n",
       "      <th>4</th>\n",
       "      <td>57.414187</td>\n",
       "    </tr>\n",
       "  </tbody>\n",
       "</table>\n",
       "</div>"
      ],
      "text/plain": [
       "           y\n",
       "0  -0.091101\n",
       "1 -53.467721\n",
       "2  75.457009\n",
       "3 -12.025286\n",
       "4  57.414187"
      ]
     },
     "execution_count": 3,
     "metadata": {},
     "output_type": "execute_result"
    }
   ],
   "source": [
    "y.head()"
   ]
  },
  {
   "cell_type": "code",
   "execution_count": 4,
   "metadata": {},
   "outputs": [
    {
     "name": "stdout",
     "output_type": "stream",
     "text": [
      "(3750, 1) (3750, 1)\n"
     ]
    }
   ],
   "source": [
    "print(x.shape,y.shape)"
   ]
  },
  {
   "cell_type": "code",
   "execution_count": 5,
   "metadata": {},
   "outputs": [
    {
     "data": {
      "text/plain": [
       "Text(0.5, 1.0, 'hardwork bs performance')"
      ]
     },
     "execution_count": 5,
     "metadata": {},
     "output_type": "execute_result"
    },
    {
     "data": {
      "image/png": "[encoded data removed]",
      "text/plain": [
       "<Figure size 576x396 with 1 Axes>"
      ]
     },
     "metadata": {},
     "output_type": "display_data"
    }
   ],
   "source": [
    "#visulisation data\n",
    "plt.style.use('seaborn')\n",
    "plt.scatter(x,y,color='orange')\n",
    "plt.xlabel('marks')\n",
    "plt.ylabel('performance')\n",
    "plt.title(\"hardwork bs performance\")"
   ]
  },
  {
   "cell_type": "code",
   "execution_count": 6,
   "metadata": {},
   "outputs": [],
   "source": [
    "x.shape\n",
    "type(x)\n",
    "x=x.values"
   ]
  },
  {
   "cell_type": "code",
   "execution_count": 7,
   "metadata": {},
   "outputs": [],
   "source": [
    "y.shape\n",
    "type(y)\n",
    "y=y.values"
   ]
  },
  {
   "cell_type": "code",
   "execution_count": 8,
   "metadata": {},
   "outputs": [
    {
     "name": "stdout",
     "output_type": "stream",
     "text": [
      "[[-0.25352061]\n",
      " [-0.55541377]\n",
      " [ 1.07380656]\n",
      " ...\n",
      " [-0.26950343]\n",
      " [ 1.72730762]\n",
      " [-0.4575866 ]]\n"
     ]
    }
   ],
   "source": [
    "#normalization\n",
    "u=x.mean()\n",
    "d=x.std()\n",
    "x=(x-u)/d\n",
    "print(x)"
   ]
  },
  {
   "cell_type": "code",
   "execution_count": 46,
   "metadata": {},
   "outputs": [],
   "source": [
    "#hypothisis calclute\n",
    "def hypothesis(x,theta):\n",
    "    y_=theta[0]+x*theta[1]\n",
    "    return y_\n",
    "\n",
    "def gradient(X,Y,theta):\n",
    "    m=X.shape[0]\n",
    "    grad=np.zeros((2,))\n",
    "    for i in range(m):\n",
    "        x=X[i]\n",
    "        y=Y[i]\n",
    "        y_=hypothesis(x,theta)\n",
    "        grad[0]+=(y_-y)\n",
    "        grad[1]+=((y_-y)*x)\n",
    "        \n",
    "    return grad/m\n",
    "\n",
    "def error(X,Y,theta):\n",
    "    m=X.shape[0]\n",
    "    total_error=0.0\n",
    "    for i in range(m):\n",
    "        y_=hypothesis(X[i],theta)\n",
    "        total_error+=(y_ -Y[i])**2\n",
    "    return total_error/m\n",
    "\n",
    "def gradientdecent(X,Y,learnig_rate=0.1,max_step=100):\n",
    "    \n",
    "    theta=np.zeros((2,))\n",
    "    error_list=[]\n",
    "    for i in range(max_step):\n",
    "        grad=gradient(X,Y,theta)\n",
    "        e=error(X,Y,theta)\n",
    "        error_list.append(e)\n",
    "        #update theta\n",
    "        theta[0]=theta[0]-learnig_rate*grad[0]\n",
    "        theta[1]=theta[1]-learnig_rate*grad[1]\n",
    "        \n",
    "    return theta,error_list\n",
    "    \n",
    "        "
   ]
  },
  {
   "cell_type": "code",
   "execution_count": 47,
   "metadata": {},
   "outputs": [],
   "source": [
    "theta,error_list=gradientdecent(x,y)"
   ]
  },
  {
   "cell_type": "code",
   "execution_count": 48,
   "metadata": {},
   "outputs": [
    {
     "data": {
      "text/plain": [
       "array([ 0.6838508 , 79.90361453])"
      ]
     },
     "execution_count": 48,
     "metadata": {},
     "output_type": "execute_result"
    }
   ],
   "source": [
    "theta"
   ]
  },
  {
   "cell_type": "code",
   "execution_count": 49,
   "metadata": {},
   "outputs": [
    {
     "data": {
      "text/plain": [
       "[array([6576.35005246]),\n",
       " array([5363.12510257]),\n",
       " array([4380.41289317]),\n",
       " array([3584.41600355]),\n",
       " array([2939.65852295]),\n",
       " array([2417.40496367]),\n",
       " array([1994.37958066]),\n",
       " array([1651.72902041]),\n",
       " array([1374.18206661]),\n",
       " array([1149.36903404]),\n",
       " array([967.27047765]),\n",
       " array([819.77064698]),\n",
       " array([700.29578413]),\n",
       " array([603.52114523]),\n",
       " array([525.13368772]),\n",
       " array([461.63984713]),\n",
       " array([410.20983626]),\n",
       " array([368.55152745]),\n",
       " array([334.80829731]),\n",
       " array([307.47628091]),\n",
       " array([285.33734761]),\n",
       " array([267.40481165]),\n",
       " array([252.87945752]),\n",
       " array([241.11392067]),\n",
       " array([231.58383582]),\n",
       " array([223.8644671]),\n",
       " array([217.61177843]),\n",
       " array([212.54710061]),\n",
       " array([208.44471157]),\n",
       " array([205.12177646]),\n",
       " array([202.43019901]),\n",
       " array([200.25002128]),\n",
       " array([198.48407732]),\n",
       " array([197.05366271]),\n",
       " array([195.89502687]),\n",
       " array([194.95653185]),\n",
       " array([194.19635088]),\n",
       " array([193.58060429]),\n",
       " array([193.08184956]),\n",
       " array([192.67785822]),\n",
       " array([192.35062524]),\n",
       " array([192.08556653]),\n",
       " array([191.87086897]),\n",
       " array([191.69696394]),\n",
       " array([191.55610088]),\n",
       " array([191.44200179]),\n",
       " array([191.34958153]),\n",
       " array([191.27472112]),\n",
       " array([191.21408419]),\n",
       " array([191.16496827]),\n",
       " array([191.12518438]),\n",
       " array([191.09295943]),\n",
       " array([191.06685722]),\n",
       " array([191.04571443]),\n",
       " array([191.02858877]),\n",
       " array([191.01471698]),\n",
       " array([191.00348084]),\n",
       " array([190.99437956]),\n",
       " array([190.98700752]),\n",
       " array([190.98103617]),\n",
       " array([190.97619938]),\n",
       " array([190.97228158]),\n",
       " array([190.96910816]),\n",
       " array([190.96653769]),\n",
       " array([190.96445561]),\n",
       " array([190.96276913]),\n",
       " array([190.96140307]),\n",
       " array([190.96029657]),\n",
       " array([190.9594003]),\n",
       " array([190.95867433]),\n",
       " array([190.95808628]),\n",
       " array([190.95760997]),\n",
       " array([190.95722416]),\n",
       " array([190.95691165]),\n",
       " array([190.95665852]),\n",
       " array([190.95645348]),\n",
       " array([190.9562874]),\n",
       " array([190.95615287]),\n",
       " array([190.95604391]),\n",
       " array([190.95595565]),\n",
       " array([190.95588415]),\n",
       " array([190.95582625]),\n",
       " array([190.95577934]),\n",
       " array([190.95574135]),\n",
       " array([190.95571057]),\n",
       " array([190.95568564]),\n",
       " array([190.95566545]),\n",
       " array([190.9556491]),\n",
       " array([190.95563585]),\n",
       " array([190.95562512]),\n",
       " array([190.95561643]),\n",
       " array([190.95560939]),\n",
       " array([190.95560368]),\n",
       " array([190.95559906]),\n",
       " array([190.95559532]),\n",
       " array([190.95559229]),\n",
       " array([190.95558984]),\n",
       " array([190.95558785]),\n",
       " array([190.95558624]),\n",
       " array([190.95558493])]"
      ]
     },
     "execution_count": 49,
     "metadata": {},
     "output_type": "execute_result"
    }
   ],
   "source": [
    "error_list"
   ]
  },
  {
   "cell_type": "code",
   "execution_count": 50,
   "metadata": {},
   "outputs": [
    {
     "data": {
      "text/plain": [
       "[<matplotlib.lines.Line2D at 0x214e14b13d0>]"
      ]
     },
     "execution_count": 50,
     "metadata": {},
     "output_type": "execute_result"
    },
    {
     "data": {
      "image/png": "[encoded data removed]",
      "text/plain": [
       "<Figure size 576x396 with 1 Axes>"
      ]
     },
     "metadata": {},
     "output_type": "display_data"
    }
   ],
   "source": [
    "plt.plot(error_list)"
   ]
  },
  {
   "cell_type": "markdown",
   "metadata": {},
   "source": [
    "# Prediction and Best Line"
   ]
  },
  {
   "cell_type": "code",
   "execution_count": 51,
   "metadata": {},
   "outputs": [
    {
     "name": "stdout",
     "output_type": "stream",
     "text": [
      "[[-19.5733619 ]\n",
      " [-43.69571729]\n",
      " [ 86.4848761 ]\n",
      " ...\n",
      " [-20.85044708]\n",
      " [138.70197319]\n",
      " [-35.87897262]]\n"
     ]
    }
   ],
   "source": [
    "y_=hypothesis(x,theta)\n",
    "print(y_)"
   ]
  },
  {
   "cell_type": "code",
   "execution_count": 52,
   "metadata": {},
   "outputs": [
    {
     "data": {
      "image/png": "[encoded data removed]",
      "text/plain": [
       "<Figure size 576x396 with 1 Axes>"
      ]
     },
     "metadata": {},
     "output_type": "display_data"
    }
   ],
   "source": [
    "#plot traning + prediction\n",
    "plt.plot(x,y_,color='blue',label='prediction')\n",
    "plt.scatter(x,y,color='yellow',label='original')\n",
    "plt.legend()\n",
    "plt.show()"
   ]
  },
  {
   "cell_type": "code",
   "execution_count": 53,
   "metadata": {},
   "outputs": [],
   "source": [
    "x_test=pd.read_csv('Linear_X_Test.csv').values\n",
    "y_test=hypothesis(x_test,theta)"
   ]
  },
  {
   "cell_type": "code",
   "execution_count": 54,
   "metadata": {},
   "outputs": [],
   "source": [
    "df=pd.DataFrame(data=y_test,columns=['y'])\n"
   ]
  },
  {
   "cell_type": "code",
   "execution_count": 55,
   "metadata": {},
   "outputs": [],
   "source": [
    "df.to_csv('y_drediction.csv',index=False)"
   ]
  },
  {
   "cell_type": "code",
   "execution_count": 56,
   "metadata": {},
   "outputs": [
    {
     "data": {
      "text/plain": [
       "array([[-149.37069577],\n",
       "       [ -68.75494042],\n",
       "       [-201.48687035],\n",
       "       ...,\n",
       "       [  10.9121384 ],\n",
       "       [ -21.53235759],\n",
       "       [ -53.68460035]])"
      ]
     },
     "execution_count": 56,
     "metadata": {},
     "output_type": "execute_result"
    }
   ],
   "source": [
    "y_test"
   ]
  },
  {
   "cell_type": "markdown",
   "metadata": {},
   "source": [
    "# scoring"
   ]
  },
  {
   "cell_type": "code",
   "execution_count": 57,
   "metadata": {},
   "outputs": [],
   "source": [
    "def r2_score(y,y_):\n",
    "    num=np.sum((y-y_)**2)\n",
    "    denom=np.sum((y-y.mean())**2)\n",
    "    score=(1-num/denom)\n",
    "    return score*100"
   ]
  },
  {
   "cell_type": "code",
   "execution_count": 58,
   "metadata": {},
   "outputs": [
    {
     "data": {
      "text/plain": [
       "97.09612226971643"
      ]
     },
     "execution_count": 58,
     "metadata": {},
     "output_type": "execute_result"
    }
   ],
   "source": [
    "r2_score(y,y_)"
   ]
  },
  {
   "cell_type": "markdown",
   "metadata": {},
   "source": [
    "# visualisation loss fuction,Gradient desent,Theta update"
   ]
  },
  {
   "cell_type": "code",
   "execution_count": 59,
   "metadata": {},
   "outputs": [],
   "source": []
  },
  {
   "cell_type": "code",
   "execution_count": null,
   "metadata": {},
   "outputs": [],
   "source": []
  },
  {
   "cell_type": "code",
   "execution_count": null,
   "metadata": {},
   "outputs": [],
   "source": []
  },
  {
   "cell_type": "code",
   "execution_count": null,
   "metadata": {},
   "outputs": [],
   "source": []
  },
  {
   "cell_type": "code",
   "execution_count": null,
   "metadata": {},
   "outputs": [],
   "source": []
  },
  {
   "cell_type": "code",
   "execution_count": null,
   "metadata": {},
   "outputs": [],
   "source": []
  }
 ],
 "metadata": {
  "kernelspec": {
   "display_name": "Python 3",
   "language": "python",
   "name": "python3"
  },
  "language_info": {
   "codemirror_mode": {
    "name": "ipython",
    "version": 3
   },
   "file_extension": ".py",
   "mimetype": "text/x-python",
   "name": "python",
   "nbconvert_exporter": "python",
   "pygments_lexer": "ipython3",
   "version": "3.8.3"
  }
 },
 "nbformat": 4,
 "nbformat_minor": 4
}
